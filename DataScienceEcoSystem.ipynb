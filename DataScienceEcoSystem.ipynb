{
 "cells": [
  {
   "cell_type": "code",
   "execution_count": 1,
   "id": "97c11005-19f1-4c0c-8e88-1b690a2be495",
   "metadata": {},
   "outputs": [
    {
     "data": {
      "text/plain": [
       "'Hello, Python!'"
      ]
     },
     "execution_count": 1,
     "metadata": {},
     "output_type": "execute_result"
    }
   ],
   "source": [
    "\"Hello, Python!\""
   ]
  },
  {
   "cell_type": "markdown",
   "id": "537bdd0d-6e88-4a8d-8d4e-e44183ecf3a8",
   "metadata": {},
   "source": [
    "# Execut it as a markdown cell\n",
    "# H1: \"Data Science Tools and Ecosystem\""
   ]
  },
  {
   "cell_type": "code",
   "execution_count": 7,
   "id": "a53c0535-f167-484e-a5f6-cd785f3aedd5",
   "metadata": {},
   "outputs": [],
   "source": [
    "# In this notebook, Data Science Tools and Ecosystem are summarised: \n"
   ]
  },
  {
   "cell_type": "markdown",
   "id": "354ac5e5-9668-4eed-adc6-01ad9be5d065",
   "metadata": {},
   "source": [
    " # Execute it as a markdown cell\n",
    " **Objectives:**"
   ]
  },
  {
   "cell_type": "markdown",
   "id": "f7ca6abe-fb4c-4299-9a44-73a4728f493f",
   "metadata": {},
   "source": [
    "# Execute it as a markdown cell\n",
    "- Some of the popular languages\n",
    "- Some of the commonly used libraries\n",
    "- Data Science Tools "
   ]
  },
  {
   "cell_type": "code",
   "execution_count": null,
   "id": "4c3d6113-4ed5-4bc9-803a-aad4f86964ad",
   "metadata": {},
   "outputs": [],
   "source": [
    "# Execute it as a markdowm cell"
   ]
  },
  {
   "cell_type": "markdown",
   "id": "192e69ea-5674-42ad-99a8-3699cf03bdac",
   "metadata": {},
   "source": [
    "\"Some of the popular languages that Data Scientists use are:\n",
    "1. Python\n",
    "2. Java\n",
    "3. R"
   ]
  },
  {
   "cell_type": "markdown",
   "id": "aa1625e1-a12c-4770-9e10-f20741d01a91",
   "metadata": {},
   "source": [
    "# Execute it as a markdown cell\n",
    "Some of the commonly used Libraries used by Data Scientists includ:\n",
    "1. Pandas\n",
    "2. NumPy\n",
    "3. SciPy\n",
    "4. Matplotlib\n",
    "5. Seaborn\n",
    "6. Scikit Learn\n",
    "7. Tensorflow\n",
    "8. Keras"
   ]
  },
  {
   "cell_type": "markdown",
   "id": "228eed10-5463-4b0e-abdb-565a07cc9d84",
   "metadata": {},
   "source": [
    "# Execute it as a markdown cell\n",
    "| Data Science Tools |\n",
    "| ------------------ |\n",
    "| Jupyter Notebook   |\n",
    "| Microsoft VS       |\n",
    "| Apache NetBeans    |\n"
   ]
  },
  {
   "cell_type": "markdown",
   "id": "bbe1576c-cb35-4b09-83a4-86039bf21fad",
   "metadata": {},
   "source": [
    "# Execute it as a markdown cell\n",
    "### H3: Below are a few examples of evaluating arithmetic expressions in Python"
   ]
  },
  {
   "cell_type": "code",
   "execution_count": 23,
   "id": "7eb24ace-4fd2-401c-a3a4-eccfe8ea4886",
   "metadata": {},
   "outputs": [
    {
     "data": {
      "text/plain": [
       "17"
      ]
     },
     "execution_count": 23,
     "metadata": {},
     "output_type": "execute_result"
    }
   ],
   "source": [
    "# This a simple arithmetic expression to mutiply then add untegers \n",
    "# Multiplication operation\n",
    "(3*4)+5"
   ]
  },
  {
   "cell_type": "code",
   "execution_count": 25,
   "id": "7980fc69-2d15-4cbb-8a9b-1220d54a0bec",
   "metadata": {},
   "outputs": [
    {
     "data": {
      "text/plain": [
       "3.3333333333333335"
      ]
     },
     "execution_count": 25,
     "metadata": {},
     "output_type": "execute_result"
    }
   ],
   "source": [
    "# This will convert 200 minutes to hours by diving by 60\n",
    "200/60"
   ]
  },
  {
   "cell_type": "markdown",
   "id": "6ef4197b-b6ec-43e9-a0ed-717c7930cd1f",
   "metadata": {},
   "source": [
    "# Execute it as a markdown cell\n",
    "## H2: Author\n",
    "Olena Nikolaeva"
   ]
  },
  {
   "cell_type": "code",
   "execution_count": null,
   "id": "96ff5945-6822-4262-90c2-fcdcabadfd33",
   "metadata": {},
   "outputs": [],
   "source": []
  }
 ],
 "metadata": {
  "kernelspec": {
   "display_name": "anaconda-ai-2024.04-py310",
   "language": "python",
   "name": "conda-env-anaconda-ai-2024.04-py310-py"
  },
  "language_info": {
   "codemirror_mode": {
    "name": "ipython",
    "version": 3
   },
   "file_extension": ".py",
   "mimetype": "text/x-python",
   "name": "python",
   "nbconvert_exporter": "python",
   "pygments_lexer": "ipython3",
   "version": "3.10.13"
  }
 },
 "nbformat": 4,
 "nbformat_minor": 5
}
